{
 "cells": [
  {
   "cell_type": "code",
   "execution_count": 1,
   "id": "88a57a05-90b1-409b-b83e-93053d32ac81",
   "metadata": {},
   "outputs": [],
   "source": [
    "import random"
   ]
  },
  {
   "cell_type": "code",
   "execution_count": 3,
   "id": "8fc31e87-bc63-44d0-af48-5dc2cdecc899",
   "metadata": {},
   "outputs": [],
   "source": [
    "a = []\n",
    "\n",
    "for i in range(10):\n",
    "    a.append(str(i))\n",
    "\n",
    "random.shuffle(a)\n",
    "\n",
    "ans = a[0:4]  # answer list, element type: str"
   ]
  },
  {
   "cell_type": "code",
   "execution_count": null,
   "id": "bba09f77-2e8a-40af-ab70-20c3b36b0417",
   "metadata": {},
   "outputs": [
    {
     "name": "stdin",
     "output_type": "stream",
     "text": [
      "Please input four digits (0~9):  6738\n"
     ]
    },
    {
     "name": "stdout",
     "output_type": "stream",
     "text": [
      "The result is 1A 1B\n"
     ]
    },
    {
     "name": "stdin",
     "output_type": "stream",
     "text": [
      "Please input four digits (0~9):  6705\n"
     ]
    },
    {
     "name": "stdout",
     "output_type": "stream",
     "text": [
      "The result is 0A 2B\n"
     ]
    },
    {
     "name": "stdin",
     "output_type": "stream",
     "text": [
      "Please input four digits (0~9):  3805\n"
     ]
    },
    {
     "name": "stdout",
     "output_type": "stream",
     "text": [
      "The result is 0A 2B\n"
     ]
    },
    {
     "name": "stdin",
     "output_type": "stream",
     "text": [
      "Please input four digits (0~9):  0538\n"
     ]
    },
    {
     "name": "stdout",
     "output_type": "stream",
     "text": [
      "The result is 1A 1B\n"
     ]
    },
    {
     "name": "stdin",
     "output_type": "stream",
     "text": [
      "Please input four digits (0~9):  5038\n"
     ]
    },
    {
     "name": "stdout",
     "output_type": "stream",
     "text": [
      "The result is 2A 0B\n"
     ]
    },
    {
     "name": "stdin",
     "output_type": "stream",
     "text": [
      "Please input four digits (0~9):  1038\n"
     ]
    },
    {
     "name": "stdout",
     "output_type": "stream",
     "text": [
      "The result is 1A 0B\n"
     ]
    },
    {
     "name": "stdin",
     "output_type": "stream",
     "text": [
      "Please input four digits (0~9):  5768\n"
     ]
    },
    {
     "name": "stdout",
     "output_type": "stream",
     "text": [
      "The result is 3A 0B\n"
     ]
    },
    {
     "name": "stdin",
     "output_type": "stream",
     "text": [
      "Please input four digits (0~9):  5748\n"
     ]
    },
    {
     "name": "stdout",
     "output_type": "stream",
     "text": [
      "The result is 2A 1B\n"
     ]
    }
   ],
   "source": [
    "# print(ans[0:4]) \n",
    "count = 0\n",
    "while(True):\n",
    "    A = 0\n",
    "    B = 0\n",
    "    \n",
    "    guess = input(\"Please input four digits (0~9): \")\n",
    "    count += 1\n",
    "    \n",
    "    for i in range(4):\n",
    "        for j in range(4):\n",
    "            if(i == j):\n",
    "                if(guess[i] == ans[j]):\n",
    "                    A += 1\n",
    "            else:\n",
    "                if (guess[i] == ans[j]):\n",
    "                    B += 1\n",
    "    \n",
    "    if (A == 4):\n",
    "        print(f\"You got it!! {count} times!!\")\n",
    "        break\n",
    "    else:\n",
    "        print(f\"The result is {A}A {B}B\")\n",
    "            "
   ]
  },
  {
   "cell_type": "code",
   "execution_count": null,
   "id": "5dcbf156-ac18-4a7f-977a-fb52b7e5d3e4",
   "metadata": {},
   "outputs": [],
   "source": []
  }
 ],
 "metadata": {
  "kernelspec": {
   "display_name": "Python 3 (ipykernel)",
   "language": "python",
   "name": "python3"
  },
  "language_info": {
   "codemirror_mode": {
    "name": "ipython",
    "version": 3
   },
   "file_extension": ".py",
   "mimetype": "text/x-python",
   "name": "python",
   "nbconvert_exporter": "python",
   "pygments_lexer": "ipython3",
   "version": "3.12.4"
  }
 },
 "nbformat": 4,
 "nbformat_minor": 5
}
